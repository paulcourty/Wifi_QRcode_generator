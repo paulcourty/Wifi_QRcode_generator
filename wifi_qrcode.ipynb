{
 "cells": [
  {
   "cell_type": "markdown",
   "id": "6e02ce5d-4797-4692-94be-c96c98a6d635",
   "metadata": {},
   "source": [
    "# Wifi QR code"
   ]
  },
  {
   "cell_type": "markdown",
   "id": "7f6e3696-c540-4019-82d0-5bbc08c7ae6c",
   "metadata": {},
   "source": [
    "- Get Wifi name & password from your laptop\n",
    "- Generate QR code"
   ]
  },
  {
   "cell_type": "markdown",
   "id": "e7ea96ca-bb84-4f39-9458-e5931491cd12",
   "metadata": {},
   "source": [
    "---"
   ]
  },
  {
   "cell_type": "markdown",
   "id": "58169bc0-1e11-40ba-970d-b82bb0c641af",
   "metadata": {},
   "source": [
    "## Import Lib"
   ]
  },
  {
   "cell_type": "code",
   "execution_count": 2,
   "id": "53d99f40-7951-4864-a7ea-f97d8b2273b5",
   "metadata": {},
   "outputs": [],
   "source": [
    "import subprocess\n",
    "import wifi_qrcode_generator\n",
    "\n",
    "from PIL import Image, ImageDraw, ImageFont"
   ]
  },
  {
   "cell_type": "markdown",
   "id": "51830b0f-8f1d-4ba7-be48-779a755a3e54",
   "metadata": {},
   "source": [
    "---"
   ]
  },
  {
   "cell_type": "markdown",
   "id": "8747f2cd-2d1f-453f-8108-ff705ee19026",
   "metadata": {},
   "source": [
    "## Functions"
   ]
  },
  {
   "cell_type": "markdown",
   "id": "1f0e2b14-db4d-48fe-aac8-ad9a0e1d412e",
   "metadata": {},
   "source": [
    "Get Wifi info"
   ]
  },
  {
   "cell_type": "code",
   "execution_count": 3,
   "id": "b8df69ac-bf29-4bc2-b019-35744c22d652",
   "metadata": {
    "jupyter": {
     "source_hidden": true
    },
    "tags": []
   },
   "outputs": [],
   "source": [
    "def get_wifi_info():\n",
    "    try:\n",
    "    # Get wifi details from PC\n",
    "        # Get wifi profile\n",
    "        wifi_info = subprocess.check_output(['netsh', 'wlan', 'show', 'interfaces']).decode('utf-8').split('\\n')\n",
    "        wifi_name = str([profile_result.split(\":\")[1] for profile_result in wifi_info if 'Profile' + 16 * ' ' + ':' in profile_result][0]).strip() # Wifi SSID\n",
    "\n",
    "        # Get password\n",
    "        password_info = subprocess.check_output(['netsh', 'wlan', 'show', 'profiles', wifi_name, 'key=clear']).decode('utf-8').split('\\n')\n",
    "        password = str([password_result.split(\":\")[1] for password_result in password_info if \"Key Content\" in password_result][0]).strip()\n",
    "\n",
    "    except:\n",
    "        # Ask wifi details from user\n",
    "        print('Something went wrong, please enter manually your wifi:\\n')\n",
    "        wifi_name = input('Wifi name: ')\n",
    "        password = input('Password: ')\n",
    "    \n",
    "    return wifi_name, password"
   ]
  },
  {
   "cell_type": "markdown",
   "id": "a9e13cb3-6fec-4481-888f-5cf8478d972c",
   "metadata": {},
   "source": [
    "Generate QR code"
   ]
  },
  {
   "cell_type": "code",
   "execution_count": 4,
   "id": "6d84098c-0ff5-44c7-9120-218bf29c2d52",
   "metadata": {
    "jupyter": {
     "source_hidden": true
    },
    "tags": []
   },
   "outputs": [],
   "source": [
    "def generate_qr_code(wifi_name, password, show_wifi_info = False):\n",
    "    wifi = '\\n| ' + wifi_name + '\\n| ' + password\n",
    "    print(wifi)\n",
    "        \n",
    "    # Generate QRcode\n",
    "    qrcode_name = input('\\nQR code name:')\n",
    "    print('')\n",
    "\n",
    "    qrcode = wifi_qrcode_generator.wifi_qrcode(wifi_name, False, 'WPA', password)\n",
    "    \n",
    "    if not show_wifi_info:\n",
    "        new_qrcode = qrcode\n",
    "\n",
    "    else: \n",
    "        y_padding = 60\n",
    "        old_size = qrcode.size\n",
    "        new_size = (old_size[0], old_size[0] + y_padding)\n",
    "\n",
    "        new_qrcode = Image.new(\"RGB\", new_size, color = (255, 255, 255))\n",
    "        new_qrcode.paste(qrcode, (0, y_padding))\n",
    "\n",
    "        draw = ImageDraw.Draw(new_qrcode)\n",
    "        font = ImageFont.truetype('Fonts\\\\Futura.ttf', 20)\n",
    "        draw.text((38, 0), wifi, fill = (0, 0, 0), font = font)\n",
    "\n",
    "    new_qrcode.save(qrcode_name + '.png')\n",
    "\n",
    "    return new_qrcode"
   ]
  },
  {
   "cell_type": "markdown",
   "id": "e49c4b4f-f09a-467b-ae42-2642156c5bdb",
   "metadata": {},
   "source": [
    "---"
   ]
  },
  {
   "cell_type": "markdown",
   "id": "b134f041-d32b-413e-87a4-e6650452d611",
   "metadata": {},
   "source": [
    "## Generate QRcode"
   ]
  },
  {
   "cell_type": "code",
   "execution_count": 5,
   "id": "6f041243-e97c-4519-9e70-a8258d9c079b",
   "metadata": {},
   "outputs": [
    {
     "name": "stdout",
     "output_type": "stream",
     "text": [
      "\n",
      "| Example Wifi Name\n",
      "| Example Password\n"
     ]
    },
    {
     "name": "stdin",
     "output_type": "stream",
     "text": [
      "\n",
      "QR code name: Wifi Example\n"
     ]
    },
    {
     "name": "stdout",
     "output_type": "stream",
     "text": [
      "\n"
     ]
    },
    {
     "data": {
      "image/png": "[encoded data removed]",
      "text/plain": [
       "<PIL.Image.Image image mode=RGB size=410x470 at 0x1A5258B6BC8>"
      ]
     },
     "execution_count": 5,
     "metadata": {},
     "output_type": "execute_result"
    }
   ],
   "source": [
    "wifi_name, password = get_wifi_info()\n",
    "qr_code = generate_qr_code(wifi_name, password, show_wifi_info = True)\n",
    "\n",
    "qr_code"
   ]
  },
  {
   "cell_type": "markdown",
   "id": "e91c95e8-bb32-4511-8092-22d0dfc641b0",
   "metadata": {},
   "source": [
    "---"
   ]
  }
 ],
 "metadata": {
  "kernelspec": {
   "display_name": "Python 3",
   "language": "python",
   "name": "python3"
  },
  "language_info": {
   "codemirror_mode": {
    "name": "ipython",
    "version": 3
   },
   "file_extension": ".py",
   "mimetype": "text/x-python",
   "name": "python",
   "nbconvert_exporter": "python",
   "pygments_lexer": "ipython3",
   "version": "3.7.4"
  }
 },
 "nbformat": 4,
 "nbformat_minor": 5
}
